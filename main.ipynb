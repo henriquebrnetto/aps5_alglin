{
 "cells": [
  {
   "cell_type": "code",
   "execution_count": 2,
   "metadata": {},
   "outputs": [],
   "source": [
    "import pandas as pd\n",
    "import numpy as np\n",
    "from scipy.linalg import svd, diagsvd\n",
    "import matplotlib.pyplot as plt"
   ]
  },
  {
   "cell_type": "code",
   "execution_count": 3,
   "metadata": {},
   "outputs": [],
   "source": [
    "def decompose_matrix(matrix : np.ndarray):\n",
    "    \"\"\"\n",
    "    Decompõe a matriz em U, Sigma e Vt.\n",
    "    \"\"\"\n",
    "    return svd(matrix)\n",
    "\n",
    "def spoiled_matrix(matrix : np.ndarray, pos : tuple, choices : np.ndarray):\n",
    "    \"\"\"\n",
    "    Cria uma cópia B da matriz de input.\n",
    "    \"Estraga\" o valor na posição 'pos'. Valores ficam no intervalo [0.5, 5] com incremento de 0.5\n",
    "    Devolve B.\n",
    "    \"\"\"\n",
    "    B = matrix.copy()\n",
    "    random_val = np.random.choice(choices)\n",
    "    B[*pos] = random_val\n",
    "    return B\n",
    "\n",
    "def random_pos(matrix : np.ndarray):\n",
    "    if isinstance(matrix, np.ndarray):\n",
    "        idxs = np.argwhere(matrix)\n",
    "        i = np.random.choice(idxs.shape[0]-1)\n",
    "        return idxs[i]\n",
    "    else:\n",
    "        raise TypeError\n",
    "    \n",
    "def get_smaller(eigenvalues : np.ndarray, n : int):\n",
    "    return np.argsort(eigenvalues)[:n]\n",
    "\n",
    "def predict_val(matrix : np.ndarray):\n",
    "    U, s, Vh = decompose_matrix(matrix)\n",
    "    smaller = get_smaller(s, 50)\n",
    "    s[smaller] *= 0\n",
    "\n",
    "    return U @ diagsvd(s, matrix.shape[0], matrix.shape[1]) @ Vh\n",
    "\n"
   ]
  },
  {
   "cell_type": "code",
   "execution_count": 4,
   "metadata": {},
   "outputs": [],
   "source": [
    "df = pd.read_csv('ratings_small.csv') # Lê arquivo de dados\n",
    "df = pd.pivot(df, columns='movieId', index='userId', values='rating') # Cria tabela pivot (userId x movieId)\n",
    "df_array = df.fillna(0).to_numpy()"
   ]
  },
  {
   "cell_type": "code",
   "execution_count": null,
   "metadata": {},
   "outputs": [
    {
     "name": "stdout",
     "output_type": "stream",
     "text": [
      "0\n"
     ]
    }
   ],
   "source": [
    "n_exp = 1000 # Número de experimentos\n",
    "errors = [] # Lista de erros em relação ao valor real (previsão - real)\n",
    "\n",
    "choices = np.linspace(0.5, 5, 10) # Possíveis escolhas pelo modelo\n",
    "\n",
    "for i in range(n_exp):\n",
    "    if i%5 == 0:\n",
    "        print(i)\n",
    "    pos = random_pos(df_array)\n",
    "\n",
    "    initial_val = df_array[*pos]\n",
    "    spoiled = spoiled_matrix(df_array, pos, choices) # Cria matriz \"estragada\"\n",
    "\n",
    "    spoiled_pred = predict_val(spoiled) # Tenta prever o valor real do valor \"estragado\"\n",
    "\n",
    "    errors += [abs(spoiled_pred[*pos] - df_array[*pos])] # Adiciona erro absoluto entre o previsto e real"
   ]
  },
  {
   "cell_type": "code",
   "execution_count": 66,
   "metadata": {},
   "outputs": [
    {
     "data": {
      "text/plain": [
       "[np.float64(1.5039352138612418)]"
      ]
     },
     "execution_count": 66,
     "metadata": {},
     "output_type": "execute_result"
    }
   ],
   "source": [
    "errors"
   ]
  },
  {
   "cell_type": "code",
   "execution_count": 32,
   "metadata": {},
   "outputs": [
    {
     "data": {
      "text/plain": [
       "(array([1., 3., 1., 0., 0., 1., 0., 3., 0., 1.]),\n",
       " array([0.5, 0.9, 1.3, 1.7, 2.1, 2.5, 2.9, 3.3, 3.7, 4.1, 4.5]),\n",
       " <BarContainer object of 10 artists>)"
      ]
     },
     "execution_count": 32,
     "metadata": {},
     "output_type": "execute_result"
    },
    {
     "data": {
      "image/png": "[encoded data removed]",
      "text/plain": [
       "<Figure size 640x480 with 1 Axes>"
      ]
     },
     "metadata": {},
     "output_type": "display_data"
    }
   ],
   "source": [
    "plt.hist(errors)"
   ]
  },
  {
   "cell_type": "code",
   "execution_count": null,
   "metadata": {},
   "outputs": [],
   "source": []
  }
 ],
 "metadata": {
  "kernelspec": {
   "display_name": "venv",
   "language": "python",
   "name": "python3"
  },
  "language_info": {
   "codemirror_mode": {
    "name": "ipython",
    "version": 3
   },
   "file_extension": ".py",
   "mimetype": "text/x-python",
   "name": "python",
   "nbconvert_exporter": "python",
   "pygments_lexer": "ipython3",
   "version": "3.11.8"
  }
 },
 "nbformat": 4,
 "nbformat_minor": 2
}
